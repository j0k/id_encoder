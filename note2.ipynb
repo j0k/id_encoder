{
 "cells": [
  {
   "cell_type": "code",
   "execution_count": 113,
   "metadata": {},
   "outputs": [],
   "source": [
    "from heapq import heappush, heappop, heapify\n",
    "import collections\n",
    "\n",
    "def encode(symb2freq):\n",
    "    \"\"\"Huffman encode the given dict mapping symbols to weights\"\"\"\n",
    "    heap = [[wt, [sym, \"\"]] for sym, wt in symb2freq.items()]\n",
    "    heapify(heap)\n",
    "    while len(heap) > 1:\n",
    "        lo = heappop(heap)\n",
    "        hi = heappop(heap)\n",
    "        \n",
    "        print(\"lo\", lo)\n",
    "        for pair in lo[1:]:\n",
    "            pair[1] = '0' + pair[1]\n",
    "        print(\"hi\", hi)\n",
    "        for pair in hi[1:]:\n",
    "            pair[1] = '1' + pair[1]\n",
    "                    \n",
    "        w       = lo[0] + hi[0]\n",
    "        symbols = lo[1:] + hi[1:]\n",
    "        print(\"push\", [w]+ symbols)\n",
    "        heappush(heap, [w] + symbols)\n",
    "        \n",
    "    print(heap)\n",
    "    return sorted(heappop(heap)[1:], key=lambda p: (len(p[-1]), p))\n",
    " \n",
    "txt = \"this is annnnnnnnnnnn example for huffman encoding\"\n",
    "txt = \"aaaaaaaaaaaaaaaaaaaaaabaaaaaaaaaaaaaaaaaaaaaaaaaaaaa\"\n",
    "\n",
    "symb2freq = collections.Counter(txt)\n"
   ]
  },
  {
   "cell_type": "code",
   "execution_count": 114,
   "metadata": {},
   "outputs": [
    {
     "data": {
      "text/plain": [
       "Counter({'a': 51, 'b': 1})"
      ]
     },
     "execution_count": 114,
     "metadata": {},
     "output_type": "execute_result"
    }
   ],
   "source": [
    "symb2freq"
   ]
  },
  {
   "cell_type": "code",
   "execution_count": 115,
   "metadata": {},
   "outputs": [
    {
     "name": "stdout",
     "output_type": "stream",
     "text": [
      "lo [1, ['b', '']]\n",
      "hi [51, ['a', '']]\n",
      "push [52, ['b', '0'], ['a', '1']]\n",
      "[[52, ['b', '0'], ['a', '1']]]\n"
     ]
    },
    {
     "data": {
      "text/plain": [
       "[['a', '1'], ['b', '0']]"
      ]
     },
     "execution_count": 115,
     "metadata": {},
     "output_type": "execute_result"
    }
   ],
   "source": [
    "huff = encode(symb2freq)\n",
    "huff"
   ]
  },
  {
   "cell_type": "code",
   "execution_count": 116,
   "metadata": {},
   "outputs": [
    {
     "name": "stdout",
     "output_type": "stream",
     "text": [
      "Symbol\tWeight\tHuffman Code\n",
      "a\t51\t1\n",
      "b\t1\t0\n"
     ]
    }
   ],
   "source": [
    "print(\"Symbol\\tWeight\\tHuffman Code\")\n",
    "for p in huff:\n",
    "    print(\"%s\\t%s\\t%s\" % (p[0], symb2freq[p[0]], p[1]))"
   ]
  },
  {
   "cell_type": "code",
   "execution_count": 6,
   "metadata": {},
   "outputs": [
    {
     "data": {
      "text/plain": [
       "[[' ', '101'],\n",
       " ['n', '010'],\n",
       " ['a', '1001'],\n",
       " ['e', '1100'],\n",
       " ['f', '1101'],\n",
       " ['h', '0001'],\n",
       " ['i', '1110'],\n",
       " ['m', '0010'],\n",
       " ['o', '0011'],\n",
       " ['s', '0111'],\n",
       " ['g', '00000'],\n",
       " ['l', '00001'],\n",
       " ['p', '01100'],\n",
       " ['r', '01101'],\n",
       " ['t', '10000'],\n",
       " ['u', '10001'],\n",
       " ['x', '11110'],\n",
       " ['c', '111110'],\n",
       " ['d', '111111']]"
      ]
     },
     "execution_count": 6,
     "metadata": {},
     "output_type": "execute_result"
    }
   ],
   "source": [
    "huff"
   ]
  },
  {
   "cell_type": "code",
   "execution_count": 88,
   "metadata": {},
   "outputs": [],
   "source": [
    "heap = [[wt, [sym, \"\"]] for sym, wt in symb2freq.items()]"
   ]
  },
  {
   "cell_type": "code",
   "execution_count": 89,
   "metadata": {},
   "outputs": [
    {
     "data": {
      "text/plain": [
       "[[1, ['t', '']],\n",
       " [2, ['h', '']],\n",
       " [3, ['i', '']],\n",
       " [2, ['s', '']],\n",
       " [6, [' ', '']],\n",
       " [3, ['a', '']],\n",
       " [30, ['n', '']],\n",
       " [3, ['e', '']],\n",
       " [1, ['x', '']],\n",
       " [2, ['m', '']],\n",
       " [1, ['p', '']],\n",
       " [1, ['l', '']],\n",
       " [3, ['f', '']],\n",
       " [2, ['o', '']],\n",
       " [1, ['r', '']],\n",
       " [1, ['u', '']],\n",
       " [1, ['c', '']],\n",
       " [1, ['d', '']],\n",
       " [1, ['g', '']]]"
      ]
     },
     "execution_count": 89,
     "metadata": {},
     "output_type": "execute_result"
    }
   ],
   "source": [
    "heap"
   ]
  },
  {
   "cell_type": "code",
   "execution_count": 90,
   "metadata": {},
   "outputs": [],
   "source": [
    "heapify(heap)"
   ]
  },
  {
   "cell_type": "code",
   "execution_count": 91,
   "metadata": {},
   "outputs": [
    {
     "data": {
      "text/plain": [
       "[[1, ['c', '']],\n",
       " [1, ['d', '']],\n",
       " [1, ['l', '']],\n",
       " [1, ['g', '']],\n",
       " [1, ['p', '']],\n",
       " [3, ['a', '']],\n",
       " [1, ['r', '']],\n",
       " [1, ['u', '']],\n",
       " [1, ['t', '']],\n",
       " [2, ['m', '']],\n",
       " [6, [' ', '']],\n",
       " [3, ['i', '']],\n",
       " [3, ['f', '']],\n",
       " [2, ['o', '']],\n",
       " [30, ['n', '']],\n",
       " [2, ['s', '']],\n",
       " [3, ['e', '']],\n",
       " [1, ['x', '']],\n",
       " [2, ['h', '']]]"
      ]
     },
     "execution_count": 91,
     "metadata": {},
     "output_type": "execute_result"
    }
   ],
   "source": [
    "heap"
   ]
  },
  {
   "cell_type": "code",
   "execution_count": 22,
   "metadata": {},
   "outputs": [
    {
     "data": {
      "text/plain": [
       "[0, 1, 2, 1, 2, 5, 6, 4, 3, 4, 3, 11, 10, 9, 8, 7, 10]"
      ]
     },
     "execution_count": 22,
     "metadata": {},
     "output_type": "execute_result"
    }
   ],
   "source": [
    "l = [11,1,2,3,4,5,6,7,1,2,3,0,10,9,8,4,10]\n",
    "heapify(l)\n",
    "l"
   ]
  },
  {
   "cell_type": "code",
   "execution_count": 23,
   "metadata": {},
   "outputs": [
    {
     "data": {
      "text/plain": [
       "0"
      ]
     },
     "execution_count": 23,
     "metadata": {},
     "output_type": "execute_result"
    }
   ],
   "source": [
    "heappop(l)"
   ]
  },
  {
   "cell_type": "code",
   "execution_count": 24,
   "metadata": {},
   "outputs": [
    {
     "data": {
      "text/plain": [
       "[1, 1, 2, 3, 2, 5, 6, 4, 10, 4, 3, 11, 10, 9, 8, 7]"
      ]
     },
     "execution_count": 24,
     "metadata": {},
     "output_type": "execute_result"
    }
   ],
   "source": [
    "l"
   ]
  },
  {
   "cell_type": "code",
   "execution_count": 92,
   "metadata": {},
   "outputs": [
    {
     "name": "stdout",
     "output_type": "stream",
     "text": [
      "[1, ['c', '']]\n",
      "[1, ['d', '']]\n",
      "[1, ['g', '']]\n",
      "[1, ['l', '']]\n",
      "[1, ['p', '']]\n",
      "[1, ['r', '']]\n",
      "[1, ['t', '']]\n",
      "[1, ['u', '']]\n",
      "[1, ['x', '']]\n",
      "[2, ['h', '']]\n",
      "[2, ['m', '']]\n",
      "[2, ['o', '']]\n",
      "[2, ['s', '']]\n",
      "[3, ['a', '']]\n",
      "[3, ['e', '']]\n",
      "[3, ['f', '']]\n",
      "[3, ['i', '']]\n",
      "[6, [' ', '']]\n",
      "[30, ['n', '']]\n"
     ]
    }
   ],
   "source": [
    "while len(heap)>=1:\n",
    "    aa = heappop(heap)\n",
    "    print(aa)"
   ]
  },
  {
   "cell_type": "code",
   "execution_count": 28,
   "metadata": {},
   "outputs": [
    {
     "data": {
      "text/plain": [
       "[1, ['c', '']]"
      ]
     },
     "execution_count": 28,
     "metadata": {},
     "output_type": "execute_result"
    }
   ],
   "source": [
    "aa"
   ]
  },
  {
   "cell_type": "code",
   "execution_count": 33,
   "metadata": {},
   "outputs": [
    {
     "data": {
      "text/plain": [
       "['c', '']"
      ]
     },
     "execution_count": 33,
     "metadata": {},
     "output_type": "execute_result"
    }
   ],
   "source": [
    "aa[1]"
   ]
  },
  {
   "cell_type": "code",
   "execution_count": 102,
   "metadata": {},
   "outputs": [
    {
     "data": {
      "text/plain": [
       "{'n': '11',\n",
       " ' ': '010',\n",
       " 'a': '0011',\n",
       " 'e': '0110',\n",
       " 'f': '0111',\n",
       " 'i': '1000',\n",
       " 's': '0001',\n",
       " 'h': '10101',\n",
       " 'm': '10110',\n",
       " 'o': '10111',\n",
       " 'p': '00000',\n",
       " 'r': '00001',\n",
       " 't': '00100',\n",
       " 'u': '00101',\n",
       " 'x': '10010',\n",
       " 'c': '100110',\n",
       " 'd': '100111',\n",
       " 'g': '101000',\n",
       " 'l': '101001'}"
      ]
     },
     "execution_count": 102,
     "metadata": {},
     "output_type": "execute_result"
    }
   ],
   "source": [
    "def toTable(table):\n",
    "    h = {}\n",
    "    for pair in table:\n",
    "        c,code = pair\n",
    "        h[c] = code\n",
    "    return h\n",
    "\n",
    "toTable(huff)"
   ]
  },
  {
   "cell_type": "code",
   "execution_count": 107,
   "metadata": {},
   "outputs": [
    {
     "data": {
      "text/plain": [
       "183"
      ]
     },
     "execution_count": 107,
     "metadata": {},
     "output_type": "execute_result"
    }
   ],
   "source": [
    "def encoder(table, txt):\n",
    "    enc = \"\"\n",
    "    for c in txt:\n",
    "        enc += table[c]\n",
    "        \n",
    "    return enc\n",
    "\n",
    "txt_enc = encoder(toTable(huff), txt)\n",
    "len(txt_enc)"
   ]
  },
  {
   "cell_type": "code",
   "execution_count": 105,
   "metadata": {},
   "outputs": [
    {
     "data": {
      "text/plain": [
       "400"
      ]
     },
     "execution_count": 105,
     "metadata": {},
     "output_type": "execute_result"
    }
   ],
   "source": [
    "len(txt) * 8"
   ]
  },
  {
   "cell_type": "code",
   "execution_count": 101,
   "metadata": {},
   "outputs": [
    {
     "data": {
      "text/plain": [
       "{'n': '11',\n",
       " ' ': '010',\n",
       " 'a': '0011',\n",
       " 'e': '0110',\n",
       " 'f': '0111',\n",
       " 'i': '1000',\n",
       " 's': '0001',\n",
       " 'h': '10101',\n",
       " 'm': '10110',\n",
       " 'o': '10111',\n",
       " 'p': '00000',\n",
       " 'r': '00001',\n",
       " 't': '00100',\n",
       " 'u': '00101',\n",
       " 'x': '10010',\n",
       " 'c': '100110',\n",
       " 'd': '100111',\n",
       " 'g': '101000',\n",
       " 'l': '101001'}"
      ]
     },
     "execution_count": 101,
     "metadata": {},
     "output_type": "execute_result"
    }
   ],
   "source": [
    "toTable(huff)"
   ]
  },
  {
   "cell_type": "code",
   "execution_count": 108,
   "metadata": {},
   "outputs": [
    {
     "data": {
      "text/plain": [
       "'001001010110000001010100000010100011111111111111111111111111010011010010001110110000001010010110010011110111000010101010100101011101111011000111101001101110011010111100111100011101000'"
      ]
     },
     "execution_count": 108,
     "metadata": {},
     "output_type": "execute_result"
    }
   ],
   "source": [
    "txt_enc"
   ]
  },
  {
   "cell_type": "code",
   "execution_count": 120,
   "metadata": {},
   "outputs": [
    {
     "data": {
      "text/plain": [
       "'0b1101000'"
      ]
     },
     "execution_count": 120,
     "metadata": {},
     "output_type": "execute_result"
    }
   ],
   "source": [
    "bin(104)"
   ]
  },
  {
   "cell_type": "code",
   "execution_count": null,
   "metadata": {},
   "outputs": [],
   "source": []
  }
 ],
 "metadata": {
  "kernelspec": {
   "display_name": "Python 3",
   "language": "python",
   "name": "python3"
  },
  "language_info": {
   "codemirror_mode": {
    "name": "ipython",
    "version": 3
   },
   "file_extension": ".py",
   "mimetype": "text/x-python",
   "name": "python",
   "nbconvert_exporter": "python",
   "pygments_lexer": "ipython3",
   "version": "3.6.5"
  }
 },
 "nbformat": 4,
 "nbformat_minor": 2
}
