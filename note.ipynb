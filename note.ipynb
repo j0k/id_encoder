{
 "cells": [
  {
   "cell_type": "code",
   "execution_count": 1,
   "metadata": {},
   "outputs": [],
   "source": [
    "import numpy as np\n",
    "\n",
    "choose   = np.random.choice\n",
    "ns       = 10\n",
    "\n",
    "mwn, Mwn = 2, 5\n",
    "mwl, Mwl = 4, 10\n",
    "alpha    = range(ord('A'), ord('Z')+1)"
   ]
  },
  {
   "cell_type": "code",
   "execution_count": 2,
   "metadata": {},
   "outputs": [],
   "source": [
    "def gen_word(alphabet, length):\n",
    "    return [ choose(alphabet) for i in [1] * length]\n",
    "\n",
    "def codes2word(codes):\n",
    "    return list(map(chr, codes))"
   ]
  },
  {
   "cell_type": "code",
   "execution_count": 3,
   "metadata": {},
   "outputs": [
    {
     "name": "stdout",
     "output_type": "stream",
     "text": [
      "EJMLGT NKJTFVB\n",
      "OAJRFM ERXS GTAILFFX ZNRXADDI DKWAUSXF\n",
      "HFHKMYVT ZJVKKVRBGH ZGLFQTUV\n",
      "VCAXHM QDBZNBSVV PESMAH NROBBLFF FMAGWSHN\n",
      "VCCE XFLKPQX\n",
      "XLJUSO AHPA SYTMS KZKYHV\n",
      "FGZH FSRXOAGLFU\n",
      "YHHFVAN VLTJ UWYKOQJ QDQZECAORA IUJENI\n",
      "HVKODBF BWAXVPTBZC\n",
      "FZKF SOUGHBKY HUYFXVEOM\n"
     ]
    }
   ],
   "source": [
    "txt = []\n",
    "for i in range(ns):\n",
    "    n_words = choose(range(mwn,Mwn+1))\n",
    "    \n",
    "    words   = []\n",
    "    for i_word in range(n_words):\n",
    "        wl   = choose(range(mwl,Mwl+1))\n",
    "        word = \"\".join(codes2word( gen_word(alpha, wl) ))        \n",
    "        words.append(word)\n",
    "        \n",
    "    txt.append(\" \".join(words))\n",
    "\n",
    "print(\"\\n\".join(txt))"
   ]
  },
  {
   "cell_type": "code",
   "execution_count": 5,
   "metadata": {},
   "outputs": [
    {
     "data": {
      "text/plain": [
       "0.5"
      ]
     },
     "execution_count": 5,
     "metadata": {},
     "output_type": "execute_result"
    }
   ],
   "source": [
    "30/60"
   ]
  },
  {
   "cell_type": "code",
   "execution_count": 46,
   "metadata": {},
   "outputs": [
    {
     "data": {
      "text/plain": [
       "'some some weik'"
      ]
     },
     "execution_count": 46,
     "metadata": {},
     "output_type": "execute_result"
    }
   ],
   "source": [
    "\" \".join(['some', 'some', 'weik'])"
   ]
  },
  {
   "cell_type": "code",
   "execution_count": 51,
   "metadata": {},
   "outputs": [],
   "source": [
    "import operator"
   ]
  },
  {
   "cell_type": "code",
   "execution_count": null,
   "metadata": {},
   "outputs": [],
   "source": [
    "acc"
   ]
  }
 ],
 "metadata": {
  "kernelspec": {
   "display_name": "Python 3",
   "language": "python",
   "name": "python3"
  },
  "language_info": {
   "codemirror_mode": {
    "name": "ipython",
    "version": 3
   },
   "file_extension": ".py",
   "mimetype": "text/x-python",
   "name": "python",
   "nbconvert_exporter": "python",
   "pygments_lexer": "ipython3",
   "version": "3.6.5"
  }
 },
 "nbformat": 4,
 "nbformat_minor": 2
}
